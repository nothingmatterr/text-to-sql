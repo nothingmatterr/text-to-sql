{
 "cells": [
  {
   "cell_type": "markdown",
   "id": "7d5c6b05",
   "metadata": {},
   "source": [
    "## ban đầu tôi có một file là text_to_sql và có vài và bước đầu chạy ra kết quả để cho ra truy vấn rồi nhưng mà bị mất, giờ tôi làm file mới\n"
   ]
  },
  {
   "cell_type": "code",
   "execution_count": 4,
   "id": "dbf0602e",
   "metadata": {},
   "outputs": [
    {
     "name": "stdout",
     "output_type": "stream",
     "text": [
      "Connected to the database\n"
     ]
    }
   ],
   "source": [
    "import psycopg2\n",
    "conn = psycopg2.connect(\n",
    "    dbname='airflow',\n",
    "    user='airflow',\n",
    "    password='airflow',\n",
    "    host='localhost',\n",
    "    port='5432'\n",
    ")\n",
    "cur = conn.cursor()\n",
    "print(\"Connected to the database\")"
   ]
  },
  {
   "cell_type": "code",
   "execution_count": 40,
   "id": "6502da1c",
   "metadata": {},
   "outputs": [],
   "source": [
    "from sentence_transformers import SentenceTransformer\n",
    "\n",
    "model_embedding  = SentenceTransformer(\"multi-qa-mpnet-base-dot-v1\", device=\"cuda\")"
   ]
  },
  {
   "cell_type": "code",
   "execution_count": null,
   "id": "ad97d6ec",
   "metadata": {},
   "outputs": [],
   "source": [
    "import google.generativeai as genai\n",
    "import os\n",
    "\n",
    "genai.configure(api_key=\"gen_api\")\n"
   ]
  },
  {
   "cell_type": "code",
   "execution_count": null,
   "id": "de93bc50",
   "metadata": {},
   "outputs": [],
   "source": [
    "def find_sql(user_text):\n",
    "    try:\n",
    "        query_embedding = model_embedding.encode(user_text).tolist()\n",
    "        cur.execute(\"\"\"\n",
    "            SELECT content\n",
    "            FROM embeddings\n",
    "            ORDER BY vector <=> %s :: vector\n",
    "            LIMIT 1;\n",
    "        \"\"\", (query_embedding,))\n",
    "        results = cur.fetchall()\n",
    "        if results:\n",
    "            return results[0][0]  # Trả về content\n",
    "        else:\n",
    "            return None\n",
    "    except Exception as e:\n",
    "        print(\"Error:\", e)\n",
    "        conn.rollback()\n",
    "        return None"
   ]
  },
  {
   "cell_type": "code",
   "execution_count": 51,
   "id": "163ec723",
   "metadata": {},
   "outputs": [
    {
     "name": "stdout",
     "output_type": "stream",
     "text": [
      "Results: [('ngay_goi (timestamp without time zone), sđt (double precision), gio (timestamp without time zone), ngay_hen_goi_lai (timestamp without time zone), close_date (timestamp without time zone), so_lan_tuong_tac (double precision), so_luong_bo_sach (double precision), so_tien_giam_gia (double precision), tong_tien (bigint), trang_thai (text), level (text), tinh/tp (text), sales (text), khach_hang (text), channel (text), chien_dich (text), content (text), marketer_2 (text), type_of_lead (text), sales_admin_xac_nhan_type_of_lead (text), unnamed:_0 (text), ',)]\n"
     ]
    }
   ],
   "source": [
    "text = \"sale_fact\"\n",
    "query_embedding = model_embedding.encode(text).tolist()\n",
    "cur.execute(\"\"\"\n",
    "            SELECT content\n",
    "            FROM embeddings\n",
    "            ORDER BY vector <=> %s :: vector\n",
    "            LIMIT 1;\n",
    "        \"\"\", (query_embedding,))\n",
    "results = cur.fetchall()\n",
    "print(\"Results:\", results)"
   ]
  },
  {
   "cell_type": "code",
   "execution_count": 47,
   "id": "8ea1bf1c",
   "metadata": {},
   "outputs": [],
   "source": [
    "def generate_sql(user_text):\n",
    "    sql_context = find_sql(user_text)\n",
    "    if not sql_context:\n",
    "        print(\"Không tìm thấy truy vấn phù hợp.\")\n",
    "        return \"\"\n",
    "    model = genai.GenerativeModel(\"gemini-2.0-flash\")\n",
    "    prompt = str(user_text) + \"\\n\" + str(sql_context)\n",
    "    response = model.generate_content(prompt)\n",
    "    sql_query = response.text.strip()\n",
    "    return sql_query"
   ]
  },
  {
   "cell_type": "code",
   "execution_count": 50,
   "id": "feaffa97",
   "metadata": {},
   "outputs": [
    {
     "name": "stdout",
     "output_type": "stream",
     "text": [
      "Generated SQL Query: OK. I understand the structure of the `sale_fact` table. Here's a breakdown of the columns and their data types:\n",
      "\n",
      "*   **ngay\\_goi (timestamp without time zone):** Date and time the call was made.\n",
      "*   **sđt (double precision):** Phone number (likely a numeric representation).  Using `double precision` for a phone number might lead to precision issues; consider using `varchar` or `bigint` if the format is strictly numeric.\n",
      "*   **gio (timestamp without time zone):** Time of day the call was made.\n",
      "*   **ngay\\_hen\\_goi\\_lai (timestamp without time zone):** Date and time for a scheduled callback.\n",
      "*   **close\\_date (timestamp without time zone):** Date and time the sale was closed.\n",
      "*   **so\\_lan\\_tuong\\_tac (double precision):** Number of interactions.\n",
      "*   **so\\_luong\\_bo\\_sach (double precision):** Number of books sold.\n",
      "*   **so\\_tien\\_giam\\_gia (double precision):** Discount amount.\n",
      "*   **tong\\_tien (bigint):** Total price.\n",
      "*   **trang\\_thai (text):** Status of the sale (e.g., \"Open\", \"Closed\", \"Lost\").\n",
      "*   **level (text):**  Customer level or lead quality.\n",
      "*   **tinh/tp (text):** Province/City.\n",
      "*   **sales (text):** Salesperson.\n",
      "*   **khach\\_hang (text):** Customer name.\n",
      "*   **channel (text):** Sales channel (e.g., \"Phone\", \"Online\", \"In-Person\").\n",
      "*   **chien\\_dich (text):** Campaign name.\n",
      "*   **content (text):** Content of the interaction or offer.\n",
      "*   **marketer\\_2 (text):** Marketer responsible (likely a foreign key to a marketing table).\n",
      "*   **type\\_of\\_lead (text):** Type of lead.\n",
      "*   **sales\\_admin\\_xac\\_nhan\\_type\\_of\\_lead (text):**  Type of lead, confirmed by sales admin.\n",
      "*   **unnamed:\\_0 (text):**  Likely an artifact from importing data (e.g., an index column from a CSV).  You might want to investigate and remove this column if it's not needed.\n",
      "\n",
      "**Potential Improvements and Considerations:**\n",
      "\n",
      "*   **Data Types:**\n",
      "    *   As mentioned, `sđt` (phone number) is better as `varchar` or `bigint`.  Using `double precision` is risky for storing and comparing phone numbers accurately.\n",
      "    *   Consider using `numeric` instead of `double precision` for monetary values like `so_tien_giam_gia`.  `numeric` provides more precise decimal handling.\n",
      "*   **Naming Conventions:**\n",
      "    *   While the names are in Vietnamese, consider using a more standard English naming convention (e.g., `call_date`, `phone_number`, `interaction_count`) if you are working with international teams or tools.  Consistency helps.\n",
      "*   **Foreign Keys:**\n",
      "    *   `sales`, `marketer_2`, and `khach_hang` likely should be foreign keys referencing other tables (e.g., a `salesperson` table, a `marketer` table, a `customer` table).  This enforces data integrity and avoids duplication.\n",
      "*   **Partitioning/Indexing:**\n",
      "    *   Depending on the size of your table and the types of queries you'll be running, consider partitioning the table (e.g., by `ngay_goi`) or adding indexes to frequently queried columns (e.g., `ngay_goi`, `tinh/tp`, `sales`).\n",
      "*   **\"unnamed:_0\" Column:** Investigate and remove or rename if necessary.\n",
      "\n",
      "**Example Usage (Assuming you're using SQL):**\n",
      "\n",
      "Here are some example SQL queries you might use with this table:\n",
      "\n",
      "```sql\n",
      "-- Count of sales by province/city\n",
      "SELECT \"tinh/tp\", COUNT(*)\n",
      "FROM sale_fact\n",
      "GROUP BY \"tinh/tp\"\n",
      "ORDER BY COUNT(*) DESC;\n",
      "\n",
      "-- Total sales amount by salesperson for the last month\n",
      "SELECT sales, SUM(tong_tien)\n",
      "FROM sale_fact\n",
      "WHERE ngay_goi >= NOW() - INTERVAL '1 month'\n",
      "GROUP BY sales\n",
      "ORDER BY SUM(tong_tien) DESC;\n",
      "\n",
      "-- Average discount amount\n",
      "SELECT AVG(so_tien_giam_gia)\n",
      "FROM sale_fact;\n",
      "\n",
      "-- Number of leads of each type\n",
      "SELECT \"type_of_lead\", COUNT(*)\n",
      "FROM sale_fact\n",
      "GROUP BY \"type_of_lead\";\n",
      "\n",
      "--Find all sales that haven't been closed after 30 days\n",
      "SELECT *\n",
      "FROM sale_fact\n",
      "WHERE close_date IS NULL AND ngay_goi < NOW() - INTERVAL '30 days';\n",
      "\n",
      "--Change 'sdt' to varchar\n",
      "ALTER TABLE sale_fact ALTER COLUMN sđt TYPE VARCHAR(20);\n",
      "```\n",
      "\n",
      "This information should help you understand and work with your `sale_fact` table.  Let me know if you have any more questions!  I'm ready to help with queries, table design, or anything else related to this data.\n"
     ]
    }
   ],
   "source": [
    "while True:\n",
    "    user_input = input(\"Enter your question: \")\n",
    "    if user_input.lower() == \"exit\":\n",
    "        break\n",
    "    sql_query = generate_sql(user_input)\n",
    "    print(\"Generated SQL Query:\", sql_query)"
   ]
  }
 ],
 "metadata": {
  "kernelspec": {
   "display_name": "mypython",
   "language": "python",
   "name": "mypython"
  },
  "language_info": {
   "codemirror_mode": {
    "name": "ipython",
    "version": 3
   },
   "file_extension": ".py",
   "mimetype": "text/x-python",
   "name": "python",
   "nbconvert_exporter": "python",
   "pygments_lexer": "ipython3",
   "version": "3.11.9"
  }
 },
 "nbformat": 4,
 "nbformat_minor": 5
}
